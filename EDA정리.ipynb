{
 "cells": [
  {
   "cell_type": "markdown",
   "id": "812fde00-04c8-4112-bf99-c26d900bd79f",
   "metadata": {},
   "source": [
    "# 데이터 분석 프로세스"
   ]
  },
  {
   "cell_type": "markdown",
   "id": "e8187ab6-c7ce-4409-b456-1353bdf9d92d",
   "metadata": {},
   "source": [
    "# 1. 단변량 분석"
   ]
  },
  {
   "cell_type": "markdown",
   "id": "30ff2f0b-981e-462a-a4a6-e19d5140e9da",
   "metadata": {},
   "source": [
    "## 1.1 숫자형 변수"
   ]
  },
  {
   "cell_type": "markdown",
   "id": "90eb2837-08ca-4309-aee5-f6addafadd0e",
   "metadata": {},
   "source": [
    "### 1.1.1 기초 통계량"
   ]
  },
  {
   "cell_type": "markdown",
   "id": "8497e3ef-e2b3-46c7-ae0b-5319fc6acecd",
   "metadata": {},
   "source": [
    "- df.info()\n",
    "- df.describe()\n",
    "- df.dtypes"
   ]
  },
  {
   "cell_type": "markdown",
   "id": "f9588267-b877-4a22-b3a4-d1cf59830391",
   "metadata": {},
   "source": [
    "### 1.1.2 Histogram"
   ]
  },
  {
   "cell_type": "markdown",
   "id": "90f4e8e3-827c-40b0-883a-574e296fb598",
   "metadata": {},
   "source": [
    "- plt.hist(1차원 데이터, bins=구간의 개수, edgecolor=막대 경계선 색상)\n",
    "- bins에 따라 차이가 날 수 있으므로 개수를 조절하며 다양한 시각으로 확인 -> kde plot 방식을 이용해 이런 단점 해결 가능\n",
    "- 만약 hist라는 변수에 히스토그램을 저장 했다면, **빈도수**는 hist\\[0\\], **구간값**은 hist\\[1\\]로 확인 가능"
   ]
  },
  {
   "cell_type": "markdown",
   "id": "89ddabcd-626e-42c0-9ca1-45c8424e723b",
   "metadata": {},
   "source": [
    "### 1.1.3 Boxplot"
   ]
  },
  {
   "cell_type": "markdown",
   "id": "d4d30478-756b-4354-8644-31121fc7da1f",
   "metadata": {},
   "source": [
    "- plt.boxplot(데이터, vert=디폴트는 True 가로로 그리려면 False\n",
    "- sns.boxplot(x=데이터, y=데이터, data=데이터프레임, hue=카테고리별 비교, palette=색상)\n",
    "- 분포를 단순화 하여 손쉽게 볼 수 있고 이상치에 대한 기준을 제시함\n",
    "\n",
    "<img src='https://github.com/testerhyuk/notes/blob/main/boxplot1.PNG?raw=true'>\n",
    "<img src='https://github.com/testerhyuk/notes/blob/main/boxplot2.PNG?raw=true'>"
   ]
  },
  {
   "cell_type": "markdown",
   "id": "2d853c85-ef0f-4093-9e10-c74192eb997b",
   "metadata": {},
   "source": [
    "### 1.1.4 Density plot"
   ]
  },
  {
   "cell_type": "markdown",
   "id": "73e23742-8af7-4192-93a5-1b0a6de741e9",
   "metadata": {},
   "source": [
    "- sns.kdeplot(x=시리즈데이터)\n",
    "- 하나 혹은 두 개의 변수에 대한 분포를 그림\n",
    "- histplot은 절대량이라면 kdeplot은 밀도 추정치\n",
    "- 연속된 분포를 볼 수 있음"
   ]
  },
  {
   "cell_type": "markdown",
   "id": "75b8b9f5-6959-462c-b1ec-692cd15b72d8",
   "metadata": {},
   "source": [
    "### 1.1.5 Violin plot"
   ]
  },
  {
   "cell_type": "markdown",
   "id": "77585231-a076-4c15-9ce0-3ae8296bfe4e",
   "metadata": {},
   "source": [
    "- plt.violinplot(시리즈데이터, vert=가로는 False 세로는 True, shomeans=True는 평균선그리기)\n",
    "- 데이터의 분포와 범위를 한눈에 보기 쉽게 나타냄\n",
    "- 박스 플롯과 비슷하지만 분포를 함께 확인할 수 있음\n",
    "- 박스 플롯과 밀도 플롯의 중간 정도"
   ]
  },
  {
   "cell_type": "markdown",
   "id": "29ef2a52-2397-4f3a-8000-ef857d9ec5d6",
   "metadata": {},
   "source": [
    "### 1.1.6 Line plot"
   ]
  },
  {
   "cell_type": "markdown",
   "id": "2b9c4483-6c08-4066-9a40-e5afa3fd58bb",
   "metadata": {},
   "source": [
    "- plt.plot(x=데이터, y=데이터, '색상 ex)g-, r-', data=데이터프레임, label=레이블링)\n",
    "- 시간의 흐름에 따른 y값의 추세를 확인하기 위함. x축 데이터가 날짜 형식"
   ]
  },
  {
   "cell_type": "markdown",
   "id": "6051d14e-62c2-4722-88aa-a37316bd6371",
   "metadata": {},
   "source": [
    "## 1.2 범주형 변수"
   ]
  },
  {
   "cell_type": "markdown",
   "id": "cf7524ea-f504-41b0-b54e-f0e52776b424",
   "metadata": {},
   "source": [
    "### 1.2.1 기초 통계량"
   ]
  },
  {
   "cell_type": "markdown",
   "id": "416a5de5-4d7d-45a6-ba00-b096a03cf1d5",
   "metadata": {},
   "source": [
    "- 리스트.count('값') : 해당 값이 몇 개 있는지 count. Count를 전체 개수로 나눠주면 비율이 된다.\n",
    "- 판다스.value_count() : 범주의 개수와 상관 없이 범주 별 개수를 count"
   ]
  },
  {
   "cell_type": "markdown",
   "id": "1f00882f-2667-4303-8e40-157bf1c27520",
   "metadata": {},
   "source": [
    "### 1.2.2 Bar Chart"
   ]
  },
  {
   "cell_type": "markdown",
   "id": "988b82e7-6cac-4d92-b83d-11bf864271f0",
   "metadata": {},
   "source": [
    "- plt.bar(범주데이터, 값, color=\\['g', 'r'\\], width=폭 지정)\n",
    "- 가로로 그릴 시 plt.barh\n",
    "- 범주 이름과 값이 필요하므로 **집계 작업이 선행**되어야 함.\n",
    "- value_counts를 사용해 집계\n",
    "- ex) cnt = gender.value_counts()\n",
    "- ex) cnt.index : 범주이름\n",
    "- ex) cnt.values : 값\n",
    "- ex) plt.bar(cnt.index, cnt.values)"
   ]
  },
  {
   "cell_type": "markdown",
   "id": "ac5c5e40-ef18-48ae-97d9-7b530be7a2c8",
   "metadata": {},
   "source": [
    "### 1.2.3 Pie Chart"
   ]
  },
  {
   "cell_type": "markdown",
   "id": "2931ecfa-3711-48a9-b414-1a69f3c3a9e7",
   "metadata": {},
   "source": [
    "- 범주별 비율 비교\n",
    "- plt.pie(값, labels=범주데이터, autopct='%.2f%%', startangle=90(90도부터 시작), counterclock=False는 시계방향, explode=\\[0.05, 0.05\\] 중심으로부터 얼마만큼 띄울지, shadow=True는 그림자 추가)\n",
    "- .2f% : 소수점 두 자리 퍼센트로 표기한다는 의미"
   ]
  },
  {
   "cell_type": "markdown",
   "id": "2c0c5536-3fc4-4099-aa93-35c3b5887b96",
   "metadata": {},
   "source": [
    "## 1.3 단변량 분석 시 확인할 점"
   ]
  },
  {
   "cell_type": "markdown",
   "id": "293300f9-9258-4fc6-8867-933da0ca6a00",
   "metadata": {},
   "source": [
    "- 값의 범위 확인\n",
    "- 데이터가 모여있는 구간(혹은 범주)와 희박한 구간(혹은 범주) 확인\n",
    "- 이상치 확인\n",
    "- 결측치 확인 및 조치 방안\n",
    "- 가변수화, 스케일링 대상 선별"
   ]
  },
  {
   "cell_type": "markdown",
   "id": "7b6a8d18-7b18-464b-8a2d-2392be4b4670",
   "metadata": {},
   "source": [
    "## 1.4 스케일링"
   ]
  },
  {
   "cell_type": "markdown",
   "id": "aa1b4c4e-c7b0-41cc-b29b-2dcc4c53cef6",
   "metadata": {},
   "source": [
    "- 값의 범위 크기에 영향을 받는 ML 알고리즘\n",
    "    - KNN\n",
    "    - K-means\n",
    "    - Neural Net\n",
    "- Normalization\n",
    "$$\\huge X_{norm} = \\frac{x-x.min}{x.max-x.min}$$\n",
    "\n",
    "- Standardization\n",
    "$$\\huge X_{z} = \\frac{x-mean}{std}$$"
   ]
  },
  {
   "cell_type": "markdown",
   "id": "729bd3f0-9cf7-40b9-8bbc-445721c72fcf",
   "metadata": {},
   "source": [
    "# 2. 이변량 분석"
   ]
  },
  {
   "cell_type": "markdown",
   "id": "02fc4337-42f9-4c3b-8218-eb9bb3768b72",
   "metadata": {},
   "source": [
    "## 2.1 숫자 vs 숫자\n",
    "\n",
    "- 숫자 vs 숫자를 비교할 때 중요한 관점은 **직선(Linearity)**"
   ]
  },
  {
   "cell_type": "markdown",
   "id": "20fc1434-3578-4227-81ab-d1c52ed93a25",
   "metadata": {},
   "source": [
    "### 2.1.1 Scatter plot"
   ]
  },
  {
   "cell_type": "markdown",
   "id": "a1b17e8e-d903-4c09-b528-0e63a87dace4",
   "metadata": {},
   "source": [
    "- plt.scatter(x축값, y축값)\n",
    "- sns.scatterplot(x축값, y축값)\n",
    "\n",
    "<img src='https://github.com/testerhyuk/notes/blob/main/scatter.PNG?raw=true'>"
   ]
  },
  {
   "cell_type": "markdown",
   "id": "8e865ab3-04e9-4ff5-98ac-51536f994b66",
   "metadata": {},
   "source": [
    "#### 2.1.1.1 Jointplot\n",
    "\n",
    "- scatter + histogram"
   ]
  },
  {
   "cell_type": "markdown",
   "id": "fddacf5c-745a-4eab-870e-d07f385e3994",
   "metadata": {},
   "source": [
    "- 두 숫자형 변수의 분포를 한꺼번에 비교하여 보여줌. hue 옵션으로 범주 차원을 추가해서 볼 수 있음\n",
    "- sns.jointplot(x=데이터, y=데이터, data=데이터프레임, hue=범주분류)"
   ]
  },
  {
   "cell_type": "markdown",
   "id": "7d456d5a-7417-485a-85af-0337cdbd9f7e",
   "metadata": {},
   "source": [
    "#### 2.1.1.2 pairplot\n",
    "\n",
    "- scatter + histogram"
   ]
  },
  {
   "cell_type": "markdown",
   "id": "b8237dac-1828-4606-9369-662170937480",
   "metadata": {},
   "source": [
    "- 모든 숫자형 변수들에 대해서 서로 비교하는 산점도 표시\n",
    "- 각 변수에 대해서는 히스토그램 표시\n",
    "- 단점 : 시간이 오래 걸림\n",
    "- sns.pairplot(데이터프레임, hue=범주)"
   ]
  },
  {
   "cell_type": "markdown",
   "id": "af517bd8-9fb9-4f3c-9eb6-7afd73048cbd",
   "metadata": {},
   "source": [
    "### 2.1.2 heatmap"
   ]
  },
  {
   "cell_type": "markdown",
   "id": "4711748f-a782-411c-bb38-d7c43d4b6458",
   "metadata": {},
   "source": [
    "- 데이터프레임.corr() : 모든 숫자형 변수들 상호간에 상관계수 계산\n",
    "- sns.heatmap(데이터프레임.corr(), annot=True는 상관계수 값 표시, cmap=히트맵 색상)"
   ]
  },
  {
   "cell_type": "markdown",
   "id": "23914e56-1569-4884-94d1-2daeb118504e",
   "metadata": {},
   "source": [
    "### 2.1.3 상관계수와 상관분석"
   ]
  },
  {
   "cell_type": "markdown",
   "id": "58aa43fa-e8d1-4b69-b351-e2515a7b879d",
   "metadata": {},
   "source": [
    "- 상관계수 r : -1, 1에 가까울 수록 강한 상관관계를 나타냄. 공분산을 표준화한 값으로 -1 ~ 1사이의 값을 가진다\n",
    "- 대략적인 기준은\n",
    "    - 강함 : 0.5 < |r| <= 1\n",
    "    - 중간 : 0.2 < |r| <= 0.5\n",
    "    - 약함 : 0.1 < |r| <= 0.2\n",
    "    - (거의)없음 : |r| <= 0.1\n",
    "\n",
    "> * 두 변수로부터 상관계수 구하기\n",
    "> * import scipy.stats as spst\n",
    "> * spst.pearsonr(x, y)\n",
    "> * 결과 - (상관계수, p-value)\n",
    "> * **p-value가 0.05(유의수준 5%)보다 작다면 우리가 세운 가설이 맞을 것이라고 판단**"
   ]
  },
  {
   "cell_type": "markdown",
   "id": "68b974b4-86ea-4f4d-90e4-f1d41152529b",
   "metadata": {},
   "source": [
    "## 2.2 범주 vs 범주"
   ]
  },
  {
   "cell_type": "markdown",
   "id": "6d9e6bbc-b7a2-4f5f-8275-918e565e058c",
   "metadata": {},
   "source": [
    "### 2.2.1 crosstab"
   ]
  },
  {
   "cell_type": "markdown",
   "id": "2d3a8357-c868-450e-905f-34d55aa15638",
   "metadata": {},
   "source": [
    "- 두 범주형 변수에서 사용 가능\n",
    "- pd.crosstab(행, 열, nomarlize='')\n",
    "- normalize 옵션\n",
    "    - columns : 열 기준 100%\n",
    "    - index : 행 기준 100% -> 보통 인덱스를 기준으로 함\n",
    "    - all : 전체 기준 100%"
   ]
  },
  {
   "cell_type": "markdown",
   "id": "3a85280b-6125-4f4f-a698-82e467177831",
   "metadata": {},
   "source": [
    "### 2.2.2 crosstab과 bar plot"
   ]
  },
  {
   "cell_type": "markdown",
   "id": "68175921-5311-4121-a3bc-c5a01cab85fa",
   "metadata": {},
   "source": [
    "> * tmp = pd.crosstab(행, 열, normalize='index'\n",
    "> * tmp.plt.bar(stacked=True)\n",
    "\n",
    "- 비율만 비교하므로 양에 대한 비교는 할 수 없다"
   ]
  },
  {
   "cell_type": "markdown",
   "id": "88231f68-29c2-471d-a546-e7a6d2d0f0fe",
   "metadata": {},
   "source": [
    "### 2.2.3 mosaic plot"
   ]
  },
  {
   "cell_type": "markdown",
   "id": "5bb6e8e3-fe93-42fd-8657-dd5f33263ec6",
   "metadata": {},
   "source": [
    "- 범주별 양과 비율을 그래프로 나타낸다\n",
    "> * from statsmodels.graphics.mosaicplot import mosaic\n",
    "> * mosaic(데이터프레임, \\['행', '열'\\]\n",
    "\n",
    "- crosstab과 barplot이던 mosaic plot이던 두 범주형 변수가 아무런 상관이 없다면, 범주별 비율의 차이가 전혀 없는 상태로 시각화 된다."
   ]
  },
  {
   "cell_type": "markdown",
   "id": "968c54bd-7e9a-46d2-b847-8e533fb2d9c0",
   "metadata": {},
   "source": [
    "### 2.2.4 카이제곱 검정"
   ]
  },
  {
   "cell_type": "markdown",
   "id": "e9f9f5e9-69a4-4a90-b07d-3f3db065fabb",
   "metadata": {},
   "source": [
    "- 범주형 변수들 사이에 어떤 관계가 있는지 수치화 하는 방법\n",
    "- 카이제곱 통계량은 클수록 기대빈도로부터 실제 값에 차이가 크다는 의미. 보통, 자유도의 2~3배 보다 크면 차이가 있다고 본다\n",
    "- 여기서 자유도는 **범주의 수 - 1**를 의미\n",
    "> * import scipy.stats as spst\n",
    "> * 먼저 crosstab으로 집계\n",
    "> * table = pd.crosstab(행, 열)\n",
    "> * result = spst.chi2_contingency(table)\n",
    "> * 카이제곱 통계량 : result\\[0\\]\n",
    "> * p-value : result\\[1\\]\n",
    "> * 기대 빈도 : result\\[3\\]"
   ]
  },
  {
   "cell_type": "markdown",
   "id": "de8c98ed-d996-4dfc-8dac-43083d596d84",
   "metadata": {},
   "source": [
    "## 2.3 범주 vs 숫자"
   ]
  },
  {
   "cell_type": "markdown",
   "id": "f823810e-c84e-43ae-907e-dccded99d9f6",
   "metadata": {},
   "source": [
    "- 범주 -> 숫자의 관계를 살펴볼 때 가장 중요한 관점은 **'평균 비교'**\n",
    "- 평균을 비교할 때는 두 가지를 고려해야 한다\n",
    "    1. 평균 값이 그 집단을 대표할 수 있는가? -> 히스토그램을 그렸을 때, 정규분포와 유사한 형태의 분포일때에 평균값이 그 집단을 대표할 수 있음\n",
    "    2. 평균 값이 믿을만 한가?"
   ]
  },
  {
   "cell_type": "markdown",
   "id": "bbc5d8fb-5598-43db-aa00-90dd99ae92a6",
   "metadata": {},
   "source": [
    "### 2.3.1 countplot\n",
    "\n",
    "- 집계 + barplot"
   ]
  },
  {
   "cell_type": "markdown",
   "id": "ddc94db3-bbe0-46c9-8f4b-b9090b71ca70",
   "metadata": {},
   "source": [
    "- matplotlib에서는 bar plot을 그릴 때, 반드시 집계가 선행되어야 한다\n",
    "- seaborn에서 countplot은 집계를 포함해 barplot을 그려준다\n",
    "- sns.countplot(x=데이터, data=데이터프레임, hue=범주분류)"
   ]
  },
  {
   "cell_type": "markdown",
   "id": "30551b1b-ca6b-46be-93fa-562f97066e2f",
   "metadata": {},
   "source": [
    "### 2.3.2 bar plot\n",
    "\n",
    "- 평균 비교 bar plot + error bar"
   ]
  },
  {
   "cell_type": "markdown",
   "id": "db4ebf53-a20f-47c0-a70e-825f03e647fd",
   "metadata": {},
   "source": [
    "- 범주별(x), 숫자(y)의 **평균을 비교**하는 그래프\n",
    "- 가운데 직선은, **신뢰구간**을 의미\n",
    "- sns.barplot(x=데이터, y=데이터, data=데이터프레임)"
   ]
  },
  {
   "cell_type": "markdown",
   "id": "114f2b7a-54d8-474e-85eb-9aeb92d2908d",
   "metadata": {},
   "source": [
    "### 2.3.3 t-Test\n",
    "\n",
    "- 귀무가설이 맞다면, 두 집단의 평균은 일치하거나 거의 같을 것이다.\n",
    "- t 통계량 : 두 평균의 차이를 표준오차로 나눈 값. 보통 **t 값이 -2보다 작거나 2보다 크면 차이가 있다**고 본다\n",
    "\n",
    "> * import scipy.stats as spst\n",
    "> * t_test =spst.ttest_ind(B, A, equal_var=False)\n",
    "> * A와 비교할 때 B의 평균이 큰가?\n",
    "> * equl_var : A와 B의 분산이 같은가? 모르면 False"
   ]
  },
  {
   "cell_type": "markdown",
   "id": "52187020-d156-446a-a09e-74bed49017d7",
   "metadata": {},
   "source": [
    "### 2.3.4 ANOVA(분산 분석)"
   ]
  },
  {
   "cell_type": "markdown",
   "id": "447b1ab7-83e6-454d-8f75-f28ef3ee602b",
   "metadata": {},
   "source": [
    "- 여러 집단 간에 차이를 비교할 때 사용 -> 여기서 기준은 전체 평균\n",
    "\n",
    "<img src='https://github.com/testerhyuk/notes/blob/main/annova2.PNG?raw=true'>\n",
    "<img src='https://github.com/testerhyuk/notes/blob/main/annova1.PNG?raw=true'>\n",
    "\n",
    "- F 통계량 값이 대략 2 ~ 3 이상이면 차이가 있다고 판단한다\n",
    "\n",
    "> * import scipy.stats as spst\n",
    "> * p1 = data.loc\\[data.pclass==1, 'age'\\]\n",
    "> * p2 = data.loc\\[data.pclass==2, 'age'\\]\n",
    "> * p3 = data.loc\\[data.pclass==3, 'age'\\]\n",
    "> * spst.f_oneway(p1, p2, p3)\n",
    "\n",
    "- 분산분석은 전체 평균 대비 각 그룹간 차이가 있는지만 알려준다\n",
    "- 어느 그룹 간에 차이가 있는지는 알 수 없다\n",
    "- 그래서 보통 사후분석을 진행한다"
   ]
  },
  {
   "cell_type": "markdown",
   "id": "c998de9f-9714-4470-93f7-9b3bd2f04d11",
   "metadata": {},
   "source": [
    "## 2.4 숫자 vs 범주"
   ]
  },
  {
   "cell_type": "markdown",
   "id": "85f063a2-4b0e-4012-8622-defe5d3dfa5e",
   "metadata": {},
   "source": [
    "### 2.4.1 밀도 함수 그래프를 범주별로 겹쳐 그린 후 비교\n",
    "\n",
    "> * t0 = titanic.loc\\[titanic['Survived'] == 0\\]\n",
    "> * t1 = titanic.loc\\[titanic['Survived'] == 1\\]\n",
    "> * sns.kdeplot(x='Age', data=t0, label='Died')\n",
    "> * sns.kdeplot(x='Age', data=t1, label='Survived')\n",
    "> * plt.legend()\n",
    "\n",
    "<img src='https://github.com/testerhyuk/notes/blob/main/%EB%B0%80%EB%8F%84%ED%95%A8%EC%88%98%ED%95%B4%EC%84%9D.PNG?raw=true'>"
   ]
  },
  {
   "cell_type": "markdown",
   "id": "3f73cf87-f791-4735-b0e6-46fb2319a196",
   "metadata": {},
   "source": [
    "### 2.4.2 히스토그램을 범주별로 겹쳐 그리기\n",
    "    - sns.histplot의 hue 옵션에 범주를 지정\n",
    "\n",
    "> * sns.histplot(x='Age', data=titanic, hue='Survived')"
   ]
  },
  {
   "cell_type": "markdown",
   "id": "75074bc9-e6ce-46f8-bc4d-3d24865ba03e",
   "metadata": {},
   "source": [
    "### 2.4.3 밀도함수 그래프 또는 히스토그램에 fill 옵션 추가\n",
    "\n",
    "> * sns.kdeplot(x='Age', data=titanic, hue='Survived', **multiple='fill'**)\n",
    "> * sns.histplot(x='Age', data=titanic, bins=16,  hue='Survived', **multiple='fill'**)"
   ]
  },
  {
   "cell_type": "markdown",
   "id": "0703511b-458f-42d6-94fe-bb055d3ca6d2",
   "metadata": {},
   "source": [
    "### 2.4.4 로지스틱 회귀 모형 이용"
   ]
  },
  {
   "cell_type": "markdown",
   "id": "9dea516d-065b-4f40-957b-1eedf5124156",
   "metadata": {},
   "source": [
    "- 숫자 -> 범주 분석을 위해 딱 맞는 가설검정 도구가 없다\n",
    "- 미봉책으로 로지스틱 회귀 모델로부터 p-value를 구한다\n",
    "- 아래 코드를 수행하기 위해서는 **y가 0과 1로 되어 있어야함**\n",
    "> * import statsmodels.api as sm\n",
    "> * model = sm.Logit(x, y)\n",
    "> * result = model.fit()\n",
    "> * print(result.pvalues)"
   ]
  },
  {
   "cell_type": "markdown",
   "id": "025cb7b2-7c92-4572-bb53-c49901147e35",
   "metadata": {},
   "source": [
    "# 3. 추가) 데이터 전처리"
   ]
  },
  {
   "cell_type": "markdown",
   "id": "b2157121-3d27-4a8a-8664-1c0c41372041",
   "metadata": {},
   "source": [
    "## 3.1 넘파이 전처리"
   ]
  },
  {
   "cell_type": "markdown",
   "id": "84822667-318f-4539-9d18-aa008759c54f",
   "metadata": {},
   "source": [
    "1. np.where(조건문, 참일 때 값, 거짓일 때 값)\n",
    "    - np.where(a>2, 1, 0)\n",
    "2. np.argmax(array, axis=0또는1) / np.argmin(array, axis=0또는1) : 가장 큰/작은 값의 인덱스 반환\n",
    "    - 전체 중 가장 큰 값의 인덱스 : np.argmax(a)\n",
    "    - 열 기준 가장 큰 값으 인덱스 : np.argmax(a, axis=0))\n",
    "    - 행 기준 가장 큰 값으 인덱스 : np.argmax(a, axis=1))\n",
    "\n",
    "<img src='https://github.com/testerhyuk/notes/blob/main/argmax.PNG?raw=true'>"
   ]
  },
  {
   "cell_type": "markdown",
   "id": "ae14595b-f561-4cd2-8dc3-611bee2008c0",
   "metadata": {},
   "source": [
    "## 3.2 판다스 전처리"
   ]
  },
  {
   "cell_type": "markdown",
   "id": "0b5ab9d7-47b9-4029-a387-48431a385890",
   "metadata": {},
   "source": [
    "### 3.2.1 조건으로 조회 : .loc\\[행 조건, 열 이름\\]\n",
    "    - 행 조건 : 조건에 만족하는 데이터만 조회 : tip.loc\\[tip['tip'] > 6\\]\n",
    "    - 열 이름 : 생략 가능. 열이름 1개 -> 결과가 시리즈, 열 이름 여러 개를 리스트로 -> 결과가 데이터 프레임"
   ]
  },
  {
   "cell_type": "markdown",
   "id": "0d32b193-b806-44a8-b7bd-7e6ff6f69daf",
   "metadata": {},
   "source": [
    "### 3.2.2 isin()\n",
    "\n",
    "isin(\\[값1, 값2..., 값n\\] : 값 1 또는 값 2 또는 ... 값 n인 데이터만 조회\n",
    "\n",
    "> * tip.loc\\[tip['day'].isin(\\['Sat', 'Sun'\\]"
   ]
  },
  {
   "cell_type": "markdown",
   "id": "726d0c71-9ac1-49df-ba2e-1fe575d29f75",
   "metadata": {},
   "source": [
    "### 3.2.3 between()\n",
    "\n",
    "between(값1, 값2) : 값1 ~ 값2까지 범위 안의 데이터만 조회\n",
    "\n",
    "> * tip.loc\\[tip['size'].between(1, 3)\\]"
   ]
  },
  {
   "cell_type": "markdown",
   "id": "07821a27-3df4-4511-aad9-86cb41e9a6c4",
   "metadata": {},
   "source": [
    "### 3.2.4 열 하나 집계\n",
    "\n",
    "- as_index = True -> 집계 기준이 되는 열이 인덱스 열이 됨\n",
    "> * day별 tip 합계 -> 시리즈\n",
    "> * tip.groupby('day', as_index=True)\\['tip'\\].sum()\n",
    "\n",
    "- \\[['tip']\\].sum() -> 결과가 데이터 프레임이 됨\n",
    "> * day별 tip 합계 -> 데이터프레임\n",
    "> * tip.groupby('day', as_index=True)\\[['tip']\\].sum()\n",
    "\n",
    "- as_index = False -> 행 번호를 기반으로 한 정수 값이 인덱스로 설정됨\n",
    "> * day별 tip 합계 -> 데이터프레임\n",
    "> * tip.groupby('day', as_index=False)\\['tip'\\].sum()"
   ]
  },
  {
   "cell_type": "markdown",
   "id": "85833dd5-8714-4921-8edc-ff7c3cb65205",
   "metadata": {},
   "source": [
    "### 3.2.5 여러 열 집계\n",
    "\n",
    "- 집계 대상 열을 리스트로 지정\n",
    "\n",
    "> * day별 total_bill, tip 합계 조회\n",
    "> * tip.groupby('day', as_index=False)\\[['total_bill', 'tip']\\].sum()\n",
    "\n",
    "- 집계 대상 열 생략 -> 기준 열 이외의 모든 열에 대한 집계 수행\n",
    "\n",
    "> * day별 나머지 열들 합계 조회\n",
    "> * tip.groupby('day', as_index=False).sum()\n",
    "\n",
    "- 집계 기준 열을 여럿 설정 가능\n",
    "\n",
    "> * day + smoker별 나머지 열들 합계 조회\n",
    "> * tip.groupby(\\['day', 'smoker'\\], as_index=False).sum()"
   ]
  },
  {
   "cell_type": "markdown",
   "id": "dcbdce17-bc43-4360-a807-da49cc2faebe",
   "metadata": {},
   "source": [
    "### 3.2.6 agg() 메소드로 다양한 집계\n",
    "\n",
    "- 열 하나에 대해 합계, 평균 등의 집계를 한 번에 수행 가능\n",
    "- agg() 메소드에 원하는 집계 방법을 리스트 형태로 지정\n",
    "\n",
    "> * day별 tip 합계, 평균, 최대값, 최소값 조회\n",
    "> * tip.groupby('day')\\['tip'\\].agg(\\['sum', 'mean', 'max', 'min'\\])\n",
    "\n",
    "- 여러 열에 대해 여러 집계를 한 번에 수행 가능\n",
    "- 집계 대상 열과 집계 방법을 리스트 형태로 지정\n",
    "\n",
    "> * day별 total_bill, tip 합계, 평균\n",
    "> * tip.groupby('day')\\[['total_bill', 'tip']\\].agg(\\['sum', 'mean'\\])\n",
    "\n",
    "- 여러 열에 대한 각 열마다 다른 집계를 한 번에 수행 가능\n",
    "- '열 이름' : '집계 방법' 형태의 key:value를 갖는 딕셔너리 형태로 지정\n",
    "\n",
    "> * day별 total_bill 평균, tip 합계\n",
    "> * tip.groupby('day', as_index=False).agg({'total_bill' : 'mean', 'tip' : 'sum'})"
   ]
  },
  {
   "cell_type": "markdown",
   "id": "77b0d1b5-38c5-4f5d-8c0e-8e3081b842e5",
   "metadata": {},
   "source": [
    "### 3.2.7 열 이름 변경\n",
    "\n",
    "- columns 속성 변경 : 모든 열 이름 변경\n",
    "\n",
    "> * tip.columns = \\['total_bill', 'tip', 'smoker'\\]\n",
    "\n",
    "- rename() 메소드 : 지정한 열 이름 변경\n",
    "\n",
    "> * tip.rename(columns={'total_bill' : 'bill',\n",
    "                        'smoker' : 'smoke_yes_no'\n",
    "                        }, inplace=True)"
   ]
  },
  {
   "cell_type": "markdown",
   "id": "9f87a2fd-28dc-4507-a3df-9c07e751f670",
   "metadata": {},
   "source": [
    "### 3.2.8 열 추가\n",
    "\n",
    "- 맨 뒤에 열 추가\n",
    "    - 없는 열을 변경하면 그 열이 추가됨\n",
    "    - 맨 뒤 열로 추가되며, 원하는 위치에 열을 추가할 수는 없음\n",
    "\n",
    "> * final_amt 열 추가\n",
    "> * tip\\['final_amt'\\] = tip\\['total_bill'\\] + tip\\['tip'\\]\n",
    "\n",
    "- 지정한 위치에 열 추가\n",
    "    - insert() 메소드를 사용하면 원하는 위치에 열 추가 가능\n",
    "\n",
    "> * tip 열 앞에 div_tv 열 추가\n",
    "> * tip.insert(1, 'div_tb', tip\\['total_bill'\\] / tip\\['size'\\])"
   ]
  },
  {
   "cell_type": "markdown",
   "id": "64218f79-28cf-40ec-a599-e2142b6c62bb",
   "metadata": {},
   "source": [
    "### 3.2.9 열 삭제\n",
    "\n",
    "- drop() 메소드를 사용해 열 삭제\n",
    "- axis=0 : 행 삭제(기본 값)\n",
    "- axis=1 : 열 삭제\n",
    "\n",
    "> * 열 하나 삭제\n",
    "> * tip.drop('final_amt', axis=1, inplace=True)\n",
    "\n",
    "> * 열 두 개 삭제\n",
    "> * tip.drop(\\['div_tb', 'day'\\], axis=1, inplace=True)"
   ]
  },
  {
   "cell_type": "markdown",
   "id": "3f17e1f4-c29d-438f-b04d-075c6e770243",
   "metadata": {},
   "source": [
    "### 3.2.10 map() 메소드\n",
    "\n",
    "- 범주형 값을 다른 값으로 변경할 때 사용\n",
    "\n",
    "> * Male -> 1, Female -> 0\n",
    "> * tip\\['Sex'\\] = tip\\['Sex'\\].map({'Male':1, 'Female':0})"
   ]
  },
  {
   "cell_type": "markdown",
   "id": "50ca61cf-dcae-49ab-b13a-e89f82c11b7b",
   "metadata": {},
   "source": [
    "### 3.2.11 cut() 메소드\n",
    "\n",
    "- 값 크기를 기준으로 지정한 개수의 범위로 나누어 붐주 값 지정\n",
    "\n",
    "> * 크기로 5등분 해서 등급 구하기\n",
    "> * tip\\['tip_grp'\\] = pd.cut(tip\\['tip'\\], 5, labels=list('edcba')\n",
    "\n",
    "<img src='https://github.com/testerhyuk/notes/blob/main/cut.PNG?raw=true'>"
   ]
  },
  {
   "cell_type": "markdown",
   "id": "6d511a55-6f27-49ab-a17d-3d210d2c5246",
   "metadata": {},
   "source": [
    "### 3.2.12 결측치 제거\n",
    "\n",
    "- dropna() 메소드로 결측치가 있는 열이나 행 제거 가능\n",
    "\n",
    "- 어떤 열이든 결측치가 있는 행 제거\n",
    "\n",
    "> * 결측치가 하나라도 있는 행 제거\n",
    "> * air.dropna(axis=0, inplace=True)\n",
    "\n",
    "- 특정 열에 결측치가 있는 행 제거\n",
    "\n",
    "> * Ozone 열이 결측치인 행 제거\n",
    "> * air.dropna(subset=\\['Ozone'\\], axis=0, inplace=True)\n",
    "\n",
    "- 결측치가 있는 열 제거\n",
    "\n",
    "> * 결측치가 있는 열 제거\n",
    "> * air.dropna(axis=1, inplace=True)"
   ]
  },
  {
   "cell_type": "markdown",
   "id": "9347b1ba-38a4-4f9b-9678-2117c930f618",
   "metadata": {},
   "source": [
    "### 3.2.13 결측치 채우기\n",
    "\n",
    "- fillna() 메소드를 이용해 결측치를 다른 값으로 채울 수 있음\n",
    "\n",
    "- 평균 값으로 채우기\n",
    "    - 결측치가 있는 열의 평균값을 구한 후 결측치를 그 값으로 채움\n",
    "\n",
    "> * mean_ozone = air\\['Ozone'\\].mean()\n",
    "> * air\\['Ozone'\\].fillna(mean_ozone, inplace=True)\n",
    "\n",
    "- 특정 값으로 채우기\n",
    "> * 0으로 채우기\n",
    "> * air\\['Ozone'\\].fillna(0, inplace=True)\n",
    "\n",
    "- 근접해 있는 값으로 채우기 KNNImputer\n",
    "\n",
    "> * from sklearn.impute import KNNImputer\n",
    "> * imputer = KNNImputer(n_neighbors=5)\n",
    "> * imputed = imputer.fit_transform(data)\n",
    "> * data = pd.DataFrame(imputed, columns=data.columns)\n",
    "> * data.isna().sum()\n",
    "\n",
    "- 시계열 데이터 앞 혹은 뒤 값으로 채우기\n",
    "\n",
    "> * 이전 데이터로 채우기\n",
    "> * data = data.fillna(method='ffill')\n",
    "\n",
    "> * 이후 데이터로 채우기\n",
    "> * data = data.fillna(method='bfill')\n",
    "\n",
    "> * 앞 뒤 값의 중간 값으로 채우기\n",
    "> * data = data.interpolate(method='linear')"
   ]
  },
  {
   "cell_type": "markdown",
   "id": "d7530ce1-93c9-4906-ae1d-2ce236d328cd",
   "metadata": {},
   "source": [
    "### 3.2.14 가변수화\n",
    "\n",
    "> * col_dum = \\['smoker', 'day', 'time'\\]\n",
    "> * tip = pd.get_dummies(tip, columns=col_dum, drop_first=True)"
   ]
  },
  {
   "cell_type": "markdown",
   "id": "a34f231c-d6ef-4b58-b8d9-7558c77afd72",
   "metadata": {},
   "source": [
    "### 3.2.15 데이터 프레임 합치기\n",
    "\n",
    "- concat() : 인덱스 값을 기준으로 두 데이터프레임을 합침\n",
    "    - axis=0 -> 세로(행)로 합치기(디폴트), axis=1 -> 가로(열)로 합침\n",
    "    - join='outer' 옵션 -> 모든 행과 열 합치기, join='inner' 옵션 -> 매핑되는 행과 열만 합치기\n",
    "    \n",
    "<img src='https://github.com/testerhyuk/notes/blob/main/concat.PNG?raw=true'>\n",
    "\n",
    "- merge() : 두 데이터프레임을 지정한 키 값을 기준으로 병합\n",
    "    - on='키'\n",
    "    - how='outer', how='inner', how='left', how='right'\n",
    "\n",
    "<img src='https://github.com/testerhyuk/notes/blob/main/merge.PNG?raw=true'>"
   ]
  }
 ],
 "metadata": {
  "kernelspec": {
   "display_name": "Python 3 (ipykernel)",
   "language": "python",
   "name": "python3"
  },
  "language_info": {
   "codemirror_mode": {
    "name": "ipython",
    "version": 3
   },
   "file_extension": ".py",
   "mimetype": "text/x-python",
   "name": "python",
   "nbconvert_exporter": "python",
   "pygments_lexer": "ipython3",
   "version": "3.9.7"
  }
 },
 "nbformat": 4,
 "nbformat_minor": 5
}
